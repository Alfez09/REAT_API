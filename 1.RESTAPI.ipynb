{
 "cells": [
  {
   "cell_type": "code",
   "execution_count": 1,
   "id": "5a743a1d-65c4-4df8-8fce-3235e8fe5d43",
   "metadata": {},
   "outputs": [
    {
     "name": "stdout",
     "output_type": "stream",
     "text": [
      "Collecting currencyapicom\n",
      "  Downloading currencyapicom-0.1.1-py3-none-any.whl.metadata (2.9 kB)\n",
      "Requirement already satisfied: requests in c:\\users\\hello\\anaconda3\\lib\\site-packages (from currencyapicom) (2.31.0)\n",
      "Collecting everapi (from currencyapicom)\n",
      "  Downloading everapi-0.1.1-py3-none-any.whl.metadata (1.4 kB)\n",
      "Requirement already satisfied: charset-normalizer<4,>=2 in c:\\users\\hello\\anaconda3\\lib\\site-packages (from requests->currencyapicom) (2.0.4)\n",
      "Requirement already satisfied: idna<4,>=2.5 in c:\\users\\hello\\anaconda3\\lib\\site-packages (from requests->currencyapicom) (3.4)\n",
      "Requirement already satisfied: urllib3<3,>=1.21.1 in c:\\users\\hello\\anaconda3\\lib\\site-packages (from requests->currencyapicom) (2.0.7)\n",
      "Requirement already satisfied: certifi>=2017.4.17 in c:\\users\\hello\\anaconda3\\lib\\site-packages (from requests->currencyapicom) (2024.7.4)\n",
      "Downloading currencyapicom-0.1.1-py3-none-any.whl (2.7 kB)\n",
      "Downloading everapi-0.1.1-py3-none-any.whl (2.9 kB)\n",
      "Installing collected packages: everapi, currencyapicom\n",
      "Successfully installed currencyapicom-0.1.1 everapi-0.1.1\n",
      "Note: you may need to restart the kernel to use updated packages.\n"
     ]
    },
    {
     "name": "stderr",
     "output_type": "stream",
     "text": [
      "WARNING: Skipping C:\\Users\\hello\\anaconda3\\Lib\\site-packages\\certifi-2024.2.2.dist-info due to invalid metadata entry 'name'\n",
      "WARNING: Skipping C:\\Users\\hello\\anaconda3\\Lib\\site-packages\\conda-24.4.0.dist-info due to invalid metadata entry 'name'\n",
      "WARNING: Skipping C:\\Users\\hello\\anaconda3\\Lib\\site-packages\\certifi-2024.2.2.dist-info due to invalid metadata entry 'name'\n",
      "WARNING: Skipping C:\\Users\\hello\\anaconda3\\Lib\\site-packages\\conda-24.4.0.dist-info due to invalid metadata entry 'name'\n",
      "WARNING: Skipping C:\\Users\\hello\\anaconda3\\Lib\\site-packages\\certifi-2024.2.2.dist-info due to invalid metadata entry 'name'\n",
      "WARNING: Skipping C:\\Users\\hello\\anaconda3\\Lib\\site-packages\\conda-24.4.0.dist-info due to invalid metadata entry 'name'\n",
      "WARNING: Skipping C:\\Users\\hello\\anaconda3\\Lib\\site-packages\\certifi-2024.2.2.dist-info due to invalid metadata entry 'name'\n",
      "WARNING: Skipping C:\\Users\\hello\\anaconda3\\Lib\\site-packages\\conda-24.4.0.dist-info due to invalid metadata entry 'name'\n",
      "WARNING: Skipping C:\\Users\\hello\\anaconda3\\Lib\\site-packages\\certifi-2024.2.2.dist-info due to invalid metadata entry 'name'\n",
      "WARNING: Skipping C:\\Users\\hello\\anaconda3\\Lib\\site-packages\\conda-24.4.0.dist-info due to invalid metadata entry 'name'\n",
      "WARNING: Skipping C:\\Users\\hello\\anaconda3\\Lib\\site-packages\\certifi-2024.2.2.dist-info due to invalid metadata entry 'name'\n",
      "WARNING: Skipping C:\\Users\\hello\\anaconda3\\Lib\\site-packages\\conda-24.4.0.dist-info due to invalid metadata entry 'name'\n",
      "WARNING: Skipping C:\\Users\\hello\\anaconda3\\Lib\\site-packages\\certifi-2024.2.2.dist-info due to invalid metadata entry 'name'\n",
      "WARNING: Skipping C:\\Users\\hello\\anaconda3\\Lib\\site-packages\\conda-24.4.0.dist-info due to invalid metadata entry 'name'\n",
      "WARNING: Skipping C:\\Users\\hello\\anaconda3\\Lib\\site-packages\\certifi-2024.2.2.dist-info due to invalid metadata entry 'name'\n",
      "WARNING: Skipping C:\\Users\\hello\\anaconda3\\Lib\\site-packages\\conda-24.4.0.dist-info due to invalid metadata entry 'name'\n"
     ]
    }
   ],
   "source": [
    "pip install currencyapicom"
   ]
  },
  {
   "cell_type": "code",
   "execution_count": 2,
   "id": "f50485bc-9607-4643-a188-56801eb4d05f",
   "metadata": {},
   "outputs": [],
   "source": [
    "import currencyapicom"
   ]
  },
  {
   "cell_type": "code",
   "execution_count": 3,
   "id": "49a070f5-f185-410d-866b-5eb10f7cf6c2",
   "metadata": {},
   "outputs": [
    {
     "name": "stdout",
     "output_type": "stream",
     "text": [
      "{'meta': {'last_updated_at': '2024-10-03T23:59:59Z'}, 'data': {'ADA': {'code': 'ADA', 'value': 2.8917611203}, 'AED': {'code': 'AED', 'value': 3.6711904711}, 'AFN': {'code': 'AFN', 'value': 68.4478997101}, 'ALL': {'code': 'ALL', 'value': 89.3170870607}, 'AMD': {'code': 'AMD', 'value': 386.0581722139}, 'ANG': {'code': 'ANG', 'value': 1.7847201974}, 'AOA': {'code': 'AOA', 'value': 913.7447539373}, 'ARB': {'code': 'ARB', 'value': 1.8709179364}, 'ARS': {'code': 'ARS', 'value': 970.6468247347}, 'AUD': {'code': 'AUD', 'value': 1.4595602417}, 'AVAX': {'code': 'AVAX', 'value': 0.0404861102}, 'AWG': {'code': 'AWG', 'value': 1.79}, 'AZN': {'code': 'AZN', 'value': 1.7}, 'BAM': {'code': 'BAM', 'value': 1.7708803106}, 'BBD': {'code': 'BBD', 'value': 2}, 'BDT': {'code': 'BDT', 'value': 119.8932680109}, 'BGN': {'code': 'BGN', 'value': 1.763510251}, 'BHD': {'code': 'BHD', 'value': 0.376}, 'BIF': {'code': 'BIF', 'value': 2890.8943862475}, 'BMD': {'code': 'BMD', 'value': 1}, 'BNB': {'code': 'BNB', 'value': 0.0018243717}, 'BND': {'code': 'BND', 'value': 1.2950202176}, 'BOB': {'code': 'BOB', 'value': 6.9055408856}, 'BRL': {'code': 'BRL', 'value': 5.4623110054}, 'BSD': {'code': 'BSD', 'value': 1}, 'BTC': {'code': 'BTC', 'value': 1.6433e-05}, 'BTN': {'code': 'BTN', 'value': 83.9984606899}, 'BWP': {'code': 'BWP', 'value': 13.1793725623}, 'BYN': {'code': 'BYN', 'value': 3.2699694632}, 'BYR': {'code': 'BYR', 'value': 32699.691169703}, 'BZD': {'code': 'BZD', 'value': 2}, 'CAD': {'code': 'CAD', 'value': 1.3544002511}, 'CDF': {'code': 'CDF', 'value': 2845.2615619124}, 'CHF': {'code': 'CHF', 'value': 0.8516001702}, 'CLF': {'code': 'CLF', 'value': 0.0238300031}, 'CLP': {'code': 'CLP', 'value': 920.3616862695}, 'CNY': {'code': 'CNY', 'value': 7.0103411203}, 'COP': {'code': 'COP', 'value': 4184.747479816}, 'CRC': {'code': 'CRC', 'value': 518.48944629}, 'CUC': {'code': 'CUC', 'value': 1}, 'CUP': {'code': 'CUP', 'value': 24}, 'CVE': {'code': 'CVE', 'value': 99.8797049054}, 'CZK': {'code': 'CZK', 'value': 22.9154634586}, 'DAI': {'code': 'DAI', 'value': 0.9983492279}, 'DJF': {'code': 'DJF', 'value': 177.721}, 'DKK': {'code': 'DKK', 'value': 6.7583108128}, 'DOP': {'code': 'DOP', 'value': 60.045237605}, 'DOT': {'code': 'DOT', 'value': 0.2417770722}, 'DZD': {'code': 'DZD', 'value': 133.3341122738}, 'EGP': {'code': 'EGP', 'value': 48.3085561674}, 'ERN': {'code': 'ERN', 'value': 15}, 'ETB': {'code': 'ETB', 'value': 120.8816114072}, 'ETH': {'code': 'ETH', 'value': 0.0004250399}, 'EUR': {'code': 'EUR', 'value': 0.9056600929}, 'FJD': {'code': 'FJD', 'value': 2.2003303309}, 'FKP': {'code': 'FKP', 'value': 0.7615311187}, 'GBP': {'code': 'GBP', 'value': 0.7614301135}, 'GEL': {'code': 'GEL', 'value': 2.7567504887}, 'GGP': {'code': 'GGP', 'value': 0.7615313296}, 'GHS': {'code': 'GHS', 'value': 15.7679523377}, 'GIP': {'code': 'GIP', 'value': 0.7615308119}, 'GMD': {'code': 'GMD', 'value': 56.4026094901}, 'GNF': {'code': 'GNF', 'value': 8625.3069836929}, 'GTQ': {'code': 'GTQ', 'value': 7.7163813666}, 'GYD': {'code': 'GYD', 'value': 208.7199850985}, 'HKD': {'code': 'HKD', 'value': 7.762750788}, 'HNL': {'code': 'HNL', 'value': 24.8327528328}, 'HRK': {'code': 'HRK', 'value': 6.4459210819}, 'HTG': {'code': 'HTG', 'value': 133.7864167237}, 'HUF': {'code': 'HUF', 'value': 363.6963573893}, 'IDR': {'code': 'IDR', 'value': 15387.838404323}, 'ILS': {'code': 'ILS', 'value': 3.803410719}, 'IMP': {'code': 'IMP', 'value': 0.7615312228}, 'INR': {'code': 'INR', 'value': 83.9032820462}, 'IQD': {'code': 'IQD', 'value': 1307.0792728105}, 'IRR': {'code': 'IRR', 'value': 41966.866842802}, 'ISK': {'code': 'ISK', 'value': 135.2156140143}, 'JEP': {'code': 'JEP', 'value': 0.76153111}, 'JMD': {'code': 'JMD', 'value': 157.9101985837}, 'JOD': {'code': 'JOD', 'value': 0.71}, 'JPY': {'code': 'JPY', 'value': 146.8077013858}, 'KES': {'code': 'KES', 'value': 129.0067330371}, 'KGS': {'code': 'KGS', 'value': 84.3365337755}, 'KHR': {'code': 'KHR', 'value': 4053.2173179448}, 'KMF': {'code': 'KMF', 'value': 445.9732184858}, 'KPW': {'code': 'KPW', 'value': 899.9845913446}, 'KRW': {'code': 'KRW', 'value': 1331.1177316191}, 'KWD': {'code': 'KWD', 'value': 0.3047700552}, 'KYD': {'code': 'KYD', 'value': 0.83333}, 'KZT': {'code': 'KZT', 'value': 481.5954406724}, 'LAK': {'code': 'LAK', 'value': 22060.750543243}, 'LBP': {'code': 'LBP', 'value': 89464.03626086}, 'LKR': {'code': 'LKR', 'value': 293.6961113346}, 'LRD': {'code': 'LRD', 'value': 193.2529678081}, 'LSL': {'code': 'LSL', 'value': 17.4971617803}, 'LTC': {'code': 'LTC', 'value': 0.0157450576}, 'LTL': {'code': 'LTL', 'value': 3.1286665126}, 'LVL': {'code': 'LVL', 'value': 0.6368239873}, 'LYD': {'code': 'LYD', 'value': 4.7610607032}, 'MAD': {'code': 'MAD', 'value': 9.755731376}, 'MATIC': {'code': 'MATIC', 'value': 2.6483706559}, 'MDL': {'code': 'MDL', 'value': 17.3380225103}, 'MGA': {'code': 'MGA', 'value': 4555.5131653887}, 'MKD': {'code': 'MKD', 'value': 55.848506085}, 'MMK': {'code': 'MMK', 'value': 2093.3369364895}, 'MNT': {'code': 'MNT', 'value': 3406.7415624889}, 'MOP': {'code': 'MOP', 'value': 8.0052710916}, 'MRO': {'code': 'MRO', 'value': 356.999828}, 'MRU': {'code': 'MRU', 'value': 39.5323144479}, 'MUR': {'code': 'MUR', 'value': 46.3649165287}, 'MVR': {'code': 'MVR', 'value': 15.4380925238}, 'MWK': {'code': 'MWK', 'value': 1732.1960595389}, 'MXN': {'code': 'MXN', 'value': 19.3288725907}, 'MYR': {'code': 'MYR', 'value': 4.217380505}, 'MZN': {'code': 'MZN', 'value': 63.5377093049}, 'NAD': {'code': 'NAD', 'value': 17.4415826166}, 'NGN': {'code': 'NGN', 'value': 1655.900205732}, 'NIO': {'code': 'NIO', 'value': 36.8228783031}, 'NOK': {'code': 'NOK', 'value': 10.5978819952}, 'NPR': {'code': 'NPR', 'value': 134.0909791439}, 'NZD': {'code': 'NZD', 'value': 1.6082301682}, 'OMR': {'code': 'OMR', 'value': 0.3838400467}, 'OP': {'code': 'OP', 'value': 0.6571333447}, 'PAB': {'code': 'PAB', 'value': 0.998740137}, 'PEN': {'code': 'PEN', 'value': 3.7273806553}, 'PGK': {'code': 'PGK', 'value': 3.932120491}, 'PHP': {'code': 'PHP', 'value': 56.3939264481}, 'PKR': {'code': 'PKR', 'value': 277.387702566}, 'PLN': {'code': 'PLN', 'value': 3.9021906215}, 'PYG': {'code': 'PYG', 'value': 7813.0840621468}, 'QAR': {'code': 'QAR', 'value': 3.6372105007}, 'RON': {'code': 'RON', 'value': 4.5078806491}, 'RSD': {'code': 'RSD', 'value': 105.6148316801}, 'RUB': {'code': 'RUB', 'value': 94.8565256076}, 'RWF': {'code': 'RWF', 'value': 1334.9096464041}, 'SAR': {'code': 'SAR', 'value': 3.7476306678}, 'SBD': {'code': 'SBD', 'value': 8.3153927599}, 'SCR': {'code': 'SCR', 'value': 14.5346525176}, 'SDG': {'code': 'SDG', 'value': 601.5}, 'SEK': {'code': 'SEK', 'value': 10.2976411006}, 'SGD': {'code': 'SGD', 'value': 1.2961902023}, 'SHP': {'code': 'SHP', 'value': 0.7614301274}, 'SLL': {'code': 'SLL', 'value': 22548.830013848}, 'SOL': {'code': 'SOL', 'value': 0.0072972937}, 'SOS': {'code': 'SOS', 'value': 571.7660803369}, 'SRD': {'code': 'SRD', 'value': 30.980965809}, 'STD': {'code': 'STD', 'value': 22360.664598716}, 'STN': {'code': 'STN', 'value': 22.3606776164}, 'SVC': {'code': 'SVC', 'value': 8.75}, 'SYP': {'code': 'SYP', 'value': 13042.177705547}, 'SZL': {'code': 'SZL', 'value': 17.4801823013}, 'THB': {'code': 'THB', 'value': 33.1001139453}, 'TJS': {'code': 'TJS', 'value': 10.7447615326}, 'TMT': {'code': 'TMT', 'value': 3.5}, 'TND': {'code': 'TND', 'value': 3.056460589}, 'TOP': {'code': 'TOP', 'value': 2.3163703495}, 'TRY': {'code': 'TRY', 'value': 34.2218552914}, 'TTD': {'code': 'TTD', 'value': 6.7404412515}, 'TWD': {'code': 'TWD', 'value': 32.0960060398}, 'TZS': {'code': 'TZS', 'value': 2709.9166753728}, 'UAH': {'code': 'UAH', 'value': 41.3627450627}, 'UGX': {'code': 'UGX', 'value': 3663.3246480357}, 'USD': {'code': 'USD', 'value': 1}, 'USDC': {'code': 'USDC', 'value': 0.9985797551}, 'USDT': {'code': 'USDT', 'value': 0.9983373337}, 'UYU': {'code': 'UYU', 'value': 41.8037664011}, 'UZS': {'code': 'UZS', 'value': 12735.989787072}, 'VEF': {'code': 'VEF', 'value': 3693929.8073041}, 'VES': {'code': 'VES', 'value': 36.9392973628}, 'VND': {'code': 'VND', 'value': 24567.927077778}, 'VUV': {'code': 'VUV', 'value': 117.8827671469}, 'WST': {'code': 'WST', 'value': 2.6969062821}, 'XAF': {'code': 'XAF', 'value': 594.1400937325}, 'XAG': {'code': 'XAG', 'value': 0.0312112275}, 'XAU': {'code': 'XAU', 'value': 0.0003765413}, 'XCD': {'code': 'XCD', 'value': 2.7}, 'XDR': {'code': 'XDR', 'value': 0.7413001014}, 'XOF': {'code': 'XOF', 'value': 594.1400873469}, 'XPD': {'code': 'XPD', 'value': 0.0009903183}, 'XPF': {'code': 'XPF', 'value': 108.0308712278}, 'XPT': {'code': 'XPT', 'value': 0.0010039779}, 'XRP': {'code': 'XRP', 'value': 1.9139001844}, 'YER': {'code': 'YER', 'value': 249.7308636023}, 'ZAR': {'code': 'ZAR', 'value': 17.4830829026}, 'ZMK': {'code': 'ZMK', 'value': 9001.2}, 'ZMW': {'code': 'ZMW', 'value': 26.3683438234}, 'ZWL': {'code': 'ZWL', 'value': 35207.322933754}}}\n"
     ]
    }
   ],
   "source": [
    "api_key = \"cur_live_Cc0jTiAyXTa6S0eIi75mYdv0zWmnW0Odw1x4EZ36\"\n",
    "\n",
    "client = currencyapicom.Client(api_key)\n",
    "result = client.latest()\n",
    "print(result)\n"
   ]
  },
  {
   "cell_type": "code",
   "execution_count": null,
   "id": "fa1fc5aa-eaba-4b59-b03a-88e3f0ee577a",
   "metadata": {},
   "outputs": [],
   "source": []
  },
  {
   "cell_type": "code",
   "execution_count": 4,
   "id": "cde3cb27-14f6-4ddd-9d91-d766b3e24b7f",
   "metadata": {},
   "outputs": [
    {
     "data": {
      "text/plain": [
       "{'meta': {'last_updated_at': '2024-10-03T23:59:59Z'},\n",
       " 'data': {'EUR': {'code': 'EUR', 'value': 0.0107940961},\n",
       "  'USD': {'code': 'USD', 'value': 0.0119184849}}}"
      ]
     },
     "execution_count": 4,
     "metadata": {},
     "output_type": "execute_result"
    }
   ],
   "source": [
    "result = client.latest(\"INR\", [\"USD\", \"EUR\"])\n",
    "result"
   ]
  },
  {
   "cell_type": "code",
   "execution_count": null,
   "id": "439d3559-dd78-4c11-be3a-e895a050b0f0",
   "metadata": {},
   "outputs": [],
   "source": []
  },
  {
   "cell_type": "code",
   "execution_count": 10,
   "id": "e73c1813-a692-464e-b01e-ce3f556be973",
   "metadata": {
    "scrolled": true
   },
   "outputs": [
    {
     "ename": "NotAllowed",
     "evalue": "",
     "output_type": "error",
     "traceback": [
      "\u001b[1;31m---------------------------------------------------------------------------\u001b[0m",
      "\u001b[1;31mNotAllowed\u001b[0m                                Traceback (most recent call last)",
      "Cell \u001b[1;32mIn[10], line 1\u001b[0m\n\u001b[1;32m----> 1\u001b[0m client\u001b[38;5;241m.\u001b[39mconvert(\u001b[38;5;124m'\u001b[39m\u001b[38;5;124m10\u001b[39m\u001b[38;5;124m'\u001b[39m, currencies\u001b[38;5;241m=\u001b[39m[\u001b[38;5;124m'\u001b[39m\u001b[38;5;124mINR\u001b[39m\u001b[38;5;124m'\u001b[39m])\n",
      "File \u001b[1;32m~\\anaconda3\\Lib\\site-packages\\currencyapicom\\client.py:54\u001b[0m, in \u001b[0;36mClient.convert\u001b[1;34m(self, value, date, base_currency, currencies)\u001b[0m\n\u001b[0;32m     51\u001b[0m \u001b[38;5;28;01mif\u001b[39;00m \u001b[38;5;28mtype\u001b[39m(currencies) \u001b[38;5;129;01mis\u001b[39;00m \u001b[38;5;129;01mnot\u001b[39;00m \u001b[38;5;28mlist\u001b[39m:\n\u001b[0;32m     52\u001b[0m     \u001b[38;5;28;01mraise\u001b[39;00m \u001b[38;5;167;01mException\u001b[39;00m(\u001b[38;5;124m\"\u001b[39m\u001b[38;5;124mCurrencies needs to be a list\u001b[39m\u001b[38;5;124m\"\u001b[39m)\n\u001b[1;32m---> 54\u001b[0m \u001b[38;5;28;01mreturn\u001b[39;00m \u001b[38;5;28mself\u001b[39m\u001b[38;5;241m.\u001b[39m_request(\u001b[38;5;124m'\u001b[39m\u001b[38;5;124m/convert\u001b[39m\u001b[38;5;124m'\u001b[39m, params\u001b[38;5;241m=\u001b[39m{\n\u001b[0;32m     55\u001b[0m     \u001b[38;5;124m'\u001b[39m\u001b[38;5;124mvalue\u001b[39m\u001b[38;5;124m'\u001b[39m: value,\n\u001b[0;32m     56\u001b[0m     \u001b[38;5;124m'\u001b[39m\u001b[38;5;124mdate\u001b[39m\u001b[38;5;124m'\u001b[39m: date,\n\u001b[0;32m     57\u001b[0m     \u001b[38;5;124m'\u001b[39m\u001b[38;5;124mbase_currency\u001b[39m\u001b[38;5;124m'\u001b[39m: base_currency,\n\u001b[0;32m     58\u001b[0m     \u001b[38;5;124m'\u001b[39m\u001b[38;5;124mcurrencies\u001b[39m\u001b[38;5;124m'\u001b[39m: \u001b[38;5;28mself\u001b[39m\u001b[38;5;241m.\u001b[39m_list_to_comma_seperated(currencies)\n\u001b[0;32m     59\u001b[0m })\n",
      "File \u001b[1;32m~\\anaconda3\\Lib\\site-packages\\everapi\\client.py:63\u001b[0m, in \u001b[0;36mClient._request\u001b[1;34m(self, url, method, params, data, return_type)\u001b[0m\n\u001b[0;32m     60\u001b[0m         \u001b[38;5;28;01mraise\u001b[39;00m everapi\u001b[38;5;241m.\u001b[39mexceptions\u001b[38;5;241m.\u001b[39mRateLimitExceeded()\n\u001b[0;32m     62\u001b[0m \u001b[38;5;28;01melif\u001b[39;00m response\u001b[38;5;241m.\u001b[39mstatus_code \u001b[38;5;241m==\u001b[39m \u001b[38;5;241m403\u001b[39m:\n\u001b[1;32m---> 63\u001b[0m     \u001b[38;5;28;01mraise\u001b[39;00m everapi\u001b[38;5;241m.\u001b[39mexceptions\u001b[38;5;241m.\u001b[39mNotAllowed()\n\u001b[0;32m     65\u001b[0m \u001b[38;5;28;01melif\u001b[39;00m response\u001b[38;5;241m.\u001b[39mstatus_code \u001b[38;5;241m==\u001b[39m \u001b[38;5;241m401\u001b[39m:\n\u001b[0;32m     66\u001b[0m     \u001b[38;5;28;01mraise\u001b[39;00m everapi\u001b[38;5;241m.\u001b[39mexceptions\u001b[38;5;241m.\u001b[39mIncorrectApikey()\n",
      "\u001b[1;31mNotAllowed\u001b[0m: "
     ]
    }
   ],
   "source": [
    "client.convert('10', currencies=['INR'])"
   ]
  },
  {
   "cell_type": "code",
   "execution_count": 7,
   "id": "8a471052-e102-426d-ae3b-ce8a2127b866",
   "metadata": {},
   "outputs": [
    {
     "data": {
      "text/plain": [
       "'cur_live_Cc0jTiAyXTa6S0eIi75mYdv0zWmnW0Odw1x4EZ36'"
      ]
     },
     "execution_count": 7,
     "metadata": {},
     "output_type": "execute_result"
    }
   ],
   "source": [
    "api_key"
   ]
  },
  {
   "cell_type": "code",
   "execution_count": 8,
   "id": "3f12672e-328f-4dea-816f-3428f3802d3a",
   "metadata": {},
   "outputs": [
    {
     "ename": "NotAllowed",
     "evalue": "",
     "output_type": "error",
     "traceback": [
      "\u001b[1;31m---------------------------------------------------------------------------\u001b[0m",
      "\u001b[1;31mNotAllowed\u001b[0m                                Traceback (most recent call last)",
      "Cell \u001b[1;32mIn[8], line 4\u001b[0m\n\u001b[0;32m      1\u001b[0m \u001b[38;5;28;01mimport\u001b[39;00m \u001b[38;5;21;01mcurrencyapicom\u001b[39;00m\n\u001b[0;32m      3\u001b[0m client \u001b[38;5;241m=\u001b[39m currencyapicom\u001b[38;5;241m.\u001b[39mClient(api_key)\n\u001b[1;32m----> 4\u001b[0m result \u001b[38;5;241m=\u001b[39m client\u001b[38;5;241m.\u001b[39mconvert(\u001b[38;5;124m'\u001b[39m\u001b[38;5;124m12\u001b[39m\u001b[38;5;124m'\u001b[39m)\n\u001b[0;32m      5\u001b[0m \u001b[38;5;28mprint\u001b[39m(result)\n",
      "File \u001b[1;32m~\\anaconda3\\Lib\\site-packages\\currencyapicom\\client.py:54\u001b[0m, in \u001b[0;36mClient.convert\u001b[1;34m(self, value, date, base_currency, currencies)\u001b[0m\n\u001b[0;32m     51\u001b[0m \u001b[38;5;28;01mif\u001b[39;00m \u001b[38;5;28mtype\u001b[39m(currencies) \u001b[38;5;129;01mis\u001b[39;00m \u001b[38;5;129;01mnot\u001b[39;00m \u001b[38;5;28mlist\u001b[39m:\n\u001b[0;32m     52\u001b[0m     \u001b[38;5;28;01mraise\u001b[39;00m \u001b[38;5;167;01mException\u001b[39;00m(\u001b[38;5;124m\"\u001b[39m\u001b[38;5;124mCurrencies needs to be a list\u001b[39m\u001b[38;5;124m\"\u001b[39m)\n\u001b[1;32m---> 54\u001b[0m \u001b[38;5;28;01mreturn\u001b[39;00m \u001b[38;5;28mself\u001b[39m\u001b[38;5;241m.\u001b[39m_request(\u001b[38;5;124m'\u001b[39m\u001b[38;5;124m/convert\u001b[39m\u001b[38;5;124m'\u001b[39m, params\u001b[38;5;241m=\u001b[39m{\n\u001b[0;32m     55\u001b[0m     \u001b[38;5;124m'\u001b[39m\u001b[38;5;124mvalue\u001b[39m\u001b[38;5;124m'\u001b[39m: value,\n\u001b[0;32m     56\u001b[0m     \u001b[38;5;124m'\u001b[39m\u001b[38;5;124mdate\u001b[39m\u001b[38;5;124m'\u001b[39m: date,\n\u001b[0;32m     57\u001b[0m     \u001b[38;5;124m'\u001b[39m\u001b[38;5;124mbase_currency\u001b[39m\u001b[38;5;124m'\u001b[39m: base_currency,\n\u001b[0;32m     58\u001b[0m     \u001b[38;5;124m'\u001b[39m\u001b[38;5;124mcurrencies\u001b[39m\u001b[38;5;124m'\u001b[39m: \u001b[38;5;28mself\u001b[39m\u001b[38;5;241m.\u001b[39m_list_to_comma_seperated(currencies)\n\u001b[0;32m     59\u001b[0m })\n",
      "File \u001b[1;32m~\\anaconda3\\Lib\\site-packages\\everapi\\client.py:63\u001b[0m, in \u001b[0;36mClient._request\u001b[1;34m(self, url, method, params, data, return_type)\u001b[0m\n\u001b[0;32m     60\u001b[0m         \u001b[38;5;28;01mraise\u001b[39;00m everapi\u001b[38;5;241m.\u001b[39mexceptions\u001b[38;5;241m.\u001b[39mRateLimitExceeded()\n\u001b[0;32m     62\u001b[0m \u001b[38;5;28;01melif\u001b[39;00m response\u001b[38;5;241m.\u001b[39mstatus_code \u001b[38;5;241m==\u001b[39m \u001b[38;5;241m403\u001b[39m:\n\u001b[1;32m---> 63\u001b[0m     \u001b[38;5;28;01mraise\u001b[39;00m everapi\u001b[38;5;241m.\u001b[39mexceptions\u001b[38;5;241m.\u001b[39mNotAllowed()\n\u001b[0;32m     65\u001b[0m \u001b[38;5;28;01melif\u001b[39;00m response\u001b[38;5;241m.\u001b[39mstatus_code \u001b[38;5;241m==\u001b[39m \u001b[38;5;241m401\u001b[39m:\n\u001b[0;32m     66\u001b[0m     \u001b[38;5;28;01mraise\u001b[39;00m everapi\u001b[38;5;241m.\u001b[39mexceptions\u001b[38;5;241m.\u001b[39mIncorrectApikey()\n",
      "\u001b[1;31mNotAllowed\u001b[0m: "
     ]
    }
   ],
   "source": [
    "import currencyapicom\n",
    "\n",
    "client = currencyapicom.Client(api_key)\n",
    "result = client.convert('12')\n",
    "print(result)\n",
    "\n"
   ]
  },
  {
   "cell_type": "code",
   "execution_count": null,
   "id": "57fe83c4-63b1-4231-b8fd-4c60340406d9",
   "metadata": {},
   "outputs": [],
   "source": []
  },
  {
   "cell_type": "code",
   "execution_count": null,
   "id": "5f5ba086-f510-41e3-bb02-b6e50f303507",
   "metadata": {},
   "outputs": [],
   "source": []
  }
 ],
 "metadata": {
  "kernelspec": {
   "display_name": "Python 3 (ipykernel)",
   "language": "python",
   "name": "python3"
  },
  "language_info": {
   "codemirror_mode": {
    "name": "ipython",
    "version": 3
   },
   "file_extension": ".py",
   "mimetype": "text/x-python",
   "name": "python",
   "nbconvert_exporter": "python",
   "pygments_lexer": "ipython3",
   "version": "3.11.7"
  }
 },
 "nbformat": 4,
 "nbformat_minor": 5
}
